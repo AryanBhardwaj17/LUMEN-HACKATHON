{
 "cells": [
  {
   "cell_type": "code",
   "execution_count": 5,
   "id": "a28910fd-e2c4-461d-bce3-05547e006f7c",
   "metadata": {},
   "outputs": [
    {
     "name": "stdout",
     "output_type": "stream",
     "text": [
      "Requirement already satisfied: joblib in c:\\users\\bkc99\\anaconda3\\lib\\site-packages (1.4.2)\n"
     ]
    }
   ],
   "source": [
    "!pip install joblib"
   ]
  },
  {
   "cell_type": "code",
   "execution_count": 7,
   "id": "356175f6-816d-456d-ba17-482859f465fe",
   "metadata": {},
   "outputs": [
    {
     "name": "stdout",
     "output_type": "stream",
     "text": [
      "Accuracy: 0.7\n",
      "\n",
      "Confusion Matrix:\n",
      " [[ 3  5]\n",
      " [ 1 11]]\n",
      "\n",
      "Classification Report:\n",
      "               precision    recall  f1-score   support\n",
      "\n",
      "           0       0.75      0.38      0.50         8\n",
      "           1       0.69      0.92      0.79        12\n",
      "\n",
      "    accuracy                           0.70        20\n",
      "   macro avg       0.72      0.65      0.64        20\n",
      "weighted avg       0.71      0.70      0.67        20\n",
      "\n"
     ]
    }
   ],
   "source": [
    "import pandas as pd\n",
    "from sklearn.model_selection import train_test_split\n",
    "from sklearn.ensemble import RandomForestClassifier\n",
    "from sklearn.metrics import accuracy_score, confusion_matrix, classification_report\n",
    "import joblib\n",
    "\n",
    "# Load your synthetic dataset\n",
    "df = pd.read_excel(\"SyD4.xlsx\")\n",
    "\n",
    "# Features and target\n",
    "X = df[[\"Daily_Avg_Data_Usage\", \"Daily_Avg_Call_Duration\", \"Daily_Avg_SMS\", \"Daily_Avg_Extra_Data_Usage\"]]\n",
    "y = df[\"Upgrade_Plan\"]\n",
    "\n",
    "# Split into train and test\n",
    "X_train, X_test, y_train, y_test = train_test_split(X, y, test_size=0.2, random_state=42)\n",
    "\n",
    "# Initialize and train model\n",
    "clf = RandomForestClassifier(n_estimators=100, random_state=42)\n",
    "clf.fit(X_train, y_train)\n",
    "\n",
    "# Predict on test set\n",
    "y_pred = clf.predict(X_test)\n",
    "\n",
    "# Evaluate\n",
    "print(\"Accuracy:\", accuracy_score(y_test, y_pred))\n",
    "print(\"\\nConfusion Matrix:\\n\", confusion_matrix(y_test, y_pred))\n",
    "print(\"\\nClassification Report:\\n\", classification_report(y_test, y_pred))\n"
   ]
  },
  {
   "cell_type": "code",
   "execution_count": 9,
   "id": "f44b016f-6602-4642-9d32-2b73892c1d57",
   "metadata": {},
   "outputs": [
    {
     "name": "stdout",
     "output_type": "stream",
     "text": [
      "✅ Model saved as finalml.pkl\n"
     ]
    }
   ],
   "source": [
    "model_filename = \"finalml.pkl\"\n",
    "joblib.dump(clf, model_filename)\n",
    "print(f\"✅ Model saved as {model_filename}\")"
   ]
  },
  {
   "cell_type": "code",
   "execution_count": 13,
   "id": "b9c62539-6e1f-4f09-93a6-66dfc299924d",
   "metadata": {},
   "outputs": [
    {
     "name": "stdout",
     "output_type": "stream",
     "text": [
      "Upgrade Plan Prediction: 1\n"
     ]
    },
    {
     "name": "stderr",
     "output_type": "stream",
     "text": [
      "C:\\Users\\bkc99\\anaconda3\\Lib\\site-packages\\sklearn\\base.py:493: UserWarning: X does not have valid feature names, but RandomForestClassifier was fitted with feature names\n",
      "  warnings.warn(\n"
     ]
    }
   ],
   "source": [
    "# Load the model\n",
    "loaded_model = joblib.load(\"finalml.pkl\")\n",
    "\n",
    "# Predict for new data\n",
    "new_user_data = [[2.5, 30, 10, 1.2]]  # Example: [Data_Usage, Call_Duration, SMS, Extra_Data]\n",
    "prediction = loaded_model.predict(new_user_data)\n",
    "print(\"Upgrade Plan Prediction:\", prediction[0])"
   ]
  },
  {
   "cell_type": "code",
   "execution_count": null,
   "id": "3e23688f-3b5b-4401-b8f6-58055b5a0fe8",
   "metadata": {},
   "outputs": [],
   "source": []
  }
 ],
 "metadata": {
  "kernelspec": {
   "display_name": "Python 3 (ipykernel)",
   "language": "python",
   "name": "python3"
  },
  "language_info": {
   "codemirror_mode": {
    "name": "ipython",
    "version": 3
   },
   "file_extension": ".py",
   "mimetype": "text/x-python",
   "name": "python",
   "nbconvert_exporter": "python",
   "pygments_lexer": "ipython3",
   "version": "3.12.4"
  }
 },
 "nbformat": 4,
 "nbformat_minor": 5
}
